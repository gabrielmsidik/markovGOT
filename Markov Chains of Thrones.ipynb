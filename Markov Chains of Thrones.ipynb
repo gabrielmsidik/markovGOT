{
 "cells": [
  {
   "cell_type": "markdown",
   "metadata": {},
   "source": [
    "# Markov Chains of Thrones\n",
    "\n",
    "### A little fun experiment to use the frequency of word combinations of different lengths to generate novels similar to Game of Thrones\n",
    "\n",
    "##### Disclaimer: Spoilers maybe generated\n",
    "\n",
    "#### [Made by: Gabriel Manuel Sidik]"
   ]
  },
  {
   "cell_type": "markdown",
   "metadata": {},
   "source": [
    "### The Preamble (Imports)"
   ]
  },
  {
   "cell_type": "code",
   "execution_count": 33,
   "metadata": {},
   "outputs": [],
   "source": [
    "import random"
   ]
  },
  {
   "cell_type": "markdown",
   "metadata": {},
   "source": [
    "## Reading the book..."
   ]
  },
  {
   "cell_type": "code",
   "execution_count": 20,
   "metadata": {},
   "outputs": [],
   "source": [
    "f = open(\"got5.txt\", \"r\")\n",
    "contents = f.read()"
   ]
  },
  {
   "cell_type": "markdown",
   "metadata": {},
   "source": [
    "## Splitting the book into an array of words..."
   ]
  },
  {
   "cell_type": "code",
   "execution_count": 29,
   "metadata": {},
   "outputs": [
    {
     "name": "stdout",
     "output_type": "stream",
     "text": [
      "['this', 'size', 'has', 'a', 'lot', 'of', 'devils,', 'any', 'one', 'of', 'which', 'will', 'bite', 'you', 'if', 'you', 'don’t', 'watch', 'out.', 'Fortunately,', 'I', 'know', 'a', 'lot', 'of', 'angels.', 'Thanks', 'and', 'appreciation,', 'therefore,', 'to', 'all', 'those', 'good', 'folks', 'who', 'so', 'kindly', 'lent', 'me', 'their', 'ears', 'and', 'their', 'expertise', '(and', 'in', 'some', 'cases', 'their', 'books)', 'so', 'I', 'could', 'get', 'all', 'those', 'little', 'details', 'right—to', 'Sage', 'Walker,', 'Martin', 'Wright,', 'Melinda', 'Snodgrass,', 'Carl', 'Keim,', 'Bruce', 'Baugh,', 'Tim', 'O’Brien,', 'Roger', 'Zelazny,', 'Jane', 'Lindskold,', 'and', 'Laura', 'J.', 'Mixon,', 'and', 'of', 'course', 'to', 'Parris.', 'And', 'a', 'special', 'thanks', 'to', 'Jennifer', 'Hershey,', 'for', 'labors', 'above', 'and', 'beyond', 'the', 'call', '…']\n"
     ]
    }
   ],
   "source": [
    "words = contents.split()\n",
    "\n",
    "# Just to check that we have the entire book\n",
    "print(words[-100:])"
   ]
  },
  {
   "cell_type": "markdown",
   "metadata": {},
   "source": [
    "## Base Case: Just using the probabilities of the words"
   ]
  },
  {
   "cell_type": "code",
   "execution_count": 21,
   "metadata": {},
   "outputs": [],
   "source": [
    "def generate_word_count_dictionary(words):\n",
    "    word_dict = {}\n",
    "    \n",
    "    for word in words:\n",
    "        if word in word_dict:\n",
    "            word_dict[word] = word_dict[word] + 1\n",
    "        else:\n",
    "            word_dict[word] = 1\n",
    "    \n",
    "    return word_dict"
   ]
  },
  {
   "cell_type": "code",
   "execution_count": 32,
   "metadata": {},
   "outputs": [
    {
     "name": "stdout",
     "output_type": "stream",
     "text": [
      "685\n",
      "243\n",
      "42\n",
      "11\n",
      "24\n"
     ]
    }
   ],
   "source": [
    "total_word_count = len(words)\n",
    "word_count_dictionary = generate_word_count_dictionary(words)\n",
    "\n",
    "print(word_count_dictionary['Jon'])\n",
    "print(word_count_dictionary['Stark'])\n",
    "print(word_count_dictionary['Starks'])\n",
    "print(word_count_dictionary['Winter'])\n",
    "print(word_count_dictionary['winter'])"
   ]
  },
  {
   "cell_type": "markdown",
   "metadata": {},
   "source": [
    "##### This is quite interesting... So 'Jon' appears more often than 'Stark'??? Oh well, let's just get on with this...\n",
    "\n",
    "Hang on! What's the best way of selecting a random word from a book? Do we really need a frequency table? Or can we just simply \"flip through the book randomly and point at a word in it!\"\n",
    "\n",
    "HMMMM\n",
    "\n",
    "#### Ctrl-Enter below a couple times to use stare at a random word index generator..."
   ]
  },
  {
   "cell_type": "code",
   "execution_count": 104,
   "metadata": {},
   "outputs": [
    {
     "name": "stdout",
     "output_type": "stream",
     "text": [
      "70724\n",
      "him\n"
     ]
    }
   ],
   "source": [
    "random_number = random.randint(0, total_word_count) - 1\n",
    "print(random_number)\n",
    "print(words[random_number])"
   ]
  },
  {
   "cell_type": "code",
   "execution_count": 105,
   "metadata": {},
   "outputs": [
    {
     "name": "stdout",
     "output_type": "stream",
     "text": [
      "['she', 'light', 'from', 'and', 'from', 'the', 'arm', 'was', 'until', 'that', 'guardsmen', 'horses,', 'nor', 'song,', 'the', 'then', 'back', 'was', 'that', 'see', 'hear', 'never', 'fury.', 'pestilential', 'with', 'come', '“And', 'and', 'must', 'many', 'he', 'have', 'in', 'my', 'the', 'Eddard', 'shouting', 'found', 'the', 'the', 'wounds,', 'were', 'come', 'she', 'safe', 'and', 'hand', 'rest', 'his', 'off', 'am', 'biting', 'Tyrion', 'less', 'thirty', 'gritting', 'ends', 'the', 'his', 'arms,', 'fur.', 'cat.', 'his', 'she', 'of', 'continued.', 'get', 'in', 'frostbite,', 'fit', 'to', 'and', 'from', 'around', 'own.', 'cross.', 'expressionless.', 'a', 'the', 'Mormont', 'like', 'is', 'shorter', 'yet', 'of', 'we', 'her', 'older,', 'and', 'Ser', 'mind’s', 'and', 'that', 'the', 'in', 'of', 'of', 'sword.', 'Did', 'hear', 'her,', 'before', 'were', 'it', 'bolted', 'Dothraki', 'him', 'Jon', 'was', 'together', 'His', 'thought', 'to', 'the', 'outside', 'light', 'of', 'living', 'Bran’s', 'behind', 'maidenhead,', 'and', 'The', 'is', 'finally,', 'other', 'past', 'his', 'to', 'lifted', 'no', 'one', 'the', 'side.', 'failed', 'Gared', 'stags', 'close', 'Ser', 'were', 'to', 'the', 'in', 'and', 'awaits.”', 'as', 'it', 'discovered', 'Dorne', 'grasping', 'man', 'to', 'went', 'stood', 'been', 'about', 'free', '“I', 'tone', 'the', 'across', 'armed', 'take', 'the', 'surmised.', 'and', 'spitted', 'said', 'host,', 'across', 'walls.', 'the', 'like', 'and', 'streaming', 'arm.', 'she', 'for', 'woman’s', 'scar', 'name', 'of', 'gave', 'anyone,', 'utter', 'down.', 'the', 'throat', 'had', 'to', 'from', 'throne.”', 'were', 'ought', 'coax', 'little', 'and', 'dark', 'at', 'to', 'noticed?”', 'them.', 'Ever', 'bathwaters.', 'averted.', 'monuments', 'this', 'Ned.”', 'Ser', 'indeed', 'Lannister,', 'she', 'he', 'realm,', 'Pyp', 'protectors.”', 'will,”', 'Furious,', 'Catelyn', 'while', 'I', 'and', 'you’re', 'Only', 'a', 'And', 'terrible', 'would', '“I', 'Do', 'gold', 'with', 'fat', 'many', 'glanced', 'back', 'a', 'trees', 'here', 'northerners', 'would', 'guard', 'lost', 'hand', 'and', 'as', 'silver,”', 'and', 'want', 'on', 'pounding', 'her', 'shoulder,', 'spoke.', 'murdered', 'remembered', 'came', 'the', 'Tyrion', 'fester', 'the', 'ear.', 'tent', 'keep', 'out', 'from', 'circling', 'the', 'A', 'into', 'His', 'happily.', 'The', 'pale', 'they', 'piece', 'beside', 'Kingdoms?', 'I', 'seen,', 'hoped', 'to', 'close', 'him', 'shoulder.', 'shouting', 'we', 'burning', 'of', 'something', 'lad.', 'little', 'hollow', 'the', 'one', 'he', 'away', 'called.', 'the', 'called', 'him', 'for', 'the', 'not', 'to', 'he’d', 'the', 'sons', 'climbing;', 'be', 'made', 'you,', 'at', 'she', 'snore', 'settled,', 'dead', 'crotch', 'have,', 'that.”', 'Joffrey', 'gave', 'of', 'was', 'trick;', 'yet', 'is', 'you', 'dying', 'Knight', 'gave', 'tried', 'and', 'lighten', 'children.”', 'cruel', 'dragons', 'Brothers', 'part', 'knee.', 'silver,', 'in', '“Direwolves,”', 'on', 'the', 'splinted', 'Sansa', 'red', 'the', 'journey', 'cupped', 'story', 'him', 'only', 'for', 'said', 'I', 'almost', 'said,', 'why', 'said.', 'Shagga’s', 'run', 'that', 'managed', 'beside', 'mr’anha!”', 'last', 'the', '…', 'soul', '“This', 'hands', 'use', 'later', 'and', 'him.', 'Jory', 'at', 'smells', 'center', 'Alive,', 'a', 'had', 'Knight,', 'and', 'I', 'away.”', 'far', 'he', 'is', 'something', 'big', 'Mordane’s', 'the', 'answered', 'you', 'his', 'going', 'avenge', 'sat', 'do', 'gods', 'Ser', 'and', '“He', '“No.', 'your', 'Drogo', 'as', 'ironwood,', 'daughters?”', 'and', 'as', 'should', 'no', 'saying.', 'she', 'again,', 'of', 'Rakharo', 'here.', 'narrow', 'don’t', 'to', 'him.', 'and', 'I', 'She', 'Her', 'was', 'hideous.', 'It', 'black-and-gold', 'just', 'arm,', 'long', 'she?', 'make', 'cold', 'wrenched', '“I', 'though.', 'too', 'may', 'a', 'no', '“I', 'no', 'egg.', 'in', 'rowers', 'those', 'the', 'small', 'yearling,', 'it’s', '“When', 'stand', 'the', 'an', 'holdfasts,', 'a', 'tall', 'own', 'She', 'From', 'Lannister', 'will', 'I', 'here', 'could', 'neck,', 'home.”', 'them', 'you', 'of', 'never', 'cannot', 'ever', 'moment', 'have', 'when', 'be', 'Landing,', 'filled', 'Cersei', 'in', 'and', 'wide,', 'but', 'stout', 'Prince', 'the', 'Lannister', 'left', 'are', 'to', 'question', 'believe', 'so', 'bold', 'the', '“Casterly', '“Yet', 'for', 'common', 'during', 'shutters.', 'table,', 'stared', 'want', 'bark', 'to', 'some', 'you', 'Lord', 'the', 'Landing', 'he', 'LEO', 'Shae', 'Robb', 'you', 'your', '“Oh,', 'were', 'much', 'lay', 'to', 'from', 'can', 'to', 'strong,', '“There', 'oaths', 'Ned', 'The', 'his', 'lie,', 'told', 'left', 'them', 'to', 'send', 'would', 'white', 'say.', 'he', 'your', 'to', '…', 'demanded,', 'of', 'thin', 'and', 'path', 'wasn’t', 'of', 'thousand', 'far', 'Seven', 'the', 'at', 'hand', 'pressed', 'face.', 'decently', 'had', 'come', 'dosh', 'difficulty.', 'hundred', 'he', 'freeriders', 'well,”', 'bone', 'maester', 'float', 'uncle', 'his', 'doing', 'be', 'death.', 'again', 'Show', 'of', 'Log,', 'a', 'some', 'stood.', 'loosely', 'his', 'knew', 'monsters', 'sky-blue', 'travel', 'body', 'a', 'his', 'the', 'had', 'the', 'end', 'shouted,', 'on', 'when', 'the', 'never', 'third', 'he', 'smallclothes', 'save', 'from', 'at', 'held', 'the', 'fire', 'caught', 'the', 'left,', 'us', 'mouth.', 'two', 'forth', 'Lannister.”', 'he’ll', 'hard', 'walked', 'damp', 'from', 'raven', 'seldom', 'Theon,', 'hated', 'woman', 'the', 'bared', 'their', '“I', 'hope', 'me,', 'she', 'help.”', 'guards,', 'the', 'charger,', 'for', 'was', 'to', 'get', 'or', 'knew', 'Frey,', 'MAESTER', 'in', 'take', 'his', 'had', 'had', 'and', 'Fork,', 'to', 'an', 'his', 'full', 'a', '“We', 'open', 'It', 'middle,', 'a', 'for', 'had', 'the', 'a', 'and', 'myself.”', 'in', 'commands', 'of', 'the', 'of', 'and', 'her.', '“Sit', 'toss', 'the', 'moment,', 'easy', 'the', 'taking', 'and', '“Never', 'the', 'Sansa', 'toward', 'but', 'either.', 'man', 'I', 'said.', 'to', 'its', 'was', 'He', 'tomorrow,', 'the', 'taken', 'Mord', 'Men', 'to', 'in', 'will', 'all', 'bloodlines', 'is', 'only', 'prince.', 'shone', 'it', 'Aerys,', 'old', 'in', 'her', 'That', 'them', 'until', 'It', 'mistake,', 'gods', 'other', '“Mother’s', 'have', 'brother?”', 'Bran', 'to', 'walked', 'alarm.', 'all', 'He', 'sheets', 'pardons', 'armholes.', 'have', 'soon', 'not', 'left', 'day,', 'dead', 'mare', 'yet', 'In', 'did', 'a', 'of', 'party', 'them', 'more', 'The', 'too', 'Dead', 'you,', 'he', 'far', 'she', 'have', 'the', 'off', 'cut', 'she', 'drew', 'realm', 'old', 'Septa', 'he’d', 'even', 'have', 'brothers,', 'cursed', 'ragged', 'waist.', 'what', 'knew', 'maidenhead,', 'said,', 'Stark,', 'would', 'sometimes,', 'the', 'fat,', 'of', 'firepits.', 'said.', 'knights', 'furrows', 'to', 'the', 'years', 'had', 'their', 'respect', 'no', 'the', 'eyes', 'and', 'forced', 'quietly.', 'to', 'a', 'Robert', 'again.', 'stroked', 'together.', 'and', 'down,', 'slashed,', 'Conqueror.', 'could', 'black', 'brother', 'the', 'live.', 'doing', 'hers', 'their', 'the', 'truth', 'There', 'great', 'Jeyne’s', 'be', 'him.', 'the', 'were', 'men', 'of', 'could', 'Arya', 'Sansa', 'things', 'Cersei', 'by', 'on', 'always', 'all', 'knew', 'grave', 'big', 'to', 'smile', 'seven', 'their', 'the', 'was', 'It', 'not', 'Clegane,', 'know', 'If', 'arms', 'shoulders.', 'should', 'first.', 'evil', 'his', 'up', 'hair.', 'Ser', 'wanted', 'uncertain', 'the', 'laughed.', 'had', 'fell.', 'back', '“You,”', 'that,', 'terrible', 'host', 'accustomed', 'fighting', 'are', 'a', 'twist', 'of', 'to', 'managed', 'leaping', 'joint.', 'us', 'knew.', 'to', 'Ned', 'about', 'Hound', 'for,', 'slaver', 'a', 'time', 'the', 'on', 'let', 'shave', 'deathbed,', 'and', 'but', 'Theon', 'lord,', 'Pyp', 'felt', 'hear', 'he', 'last', 'Ned', 'Then', 'me', 'Last', 'sprawled', 'no', 'like', 'the', 'this,', 'Ser', 'hands', 'Men', 'it', 'welcome', 'enough', 'It', '“This', 'wolf’s', 'said,', 'close', 'laugh', 'paid', 'have', '“Ser', 'anymore.', 'times,', 'see', 'leapt', 'her', 'a', 'said', 'She', 'looking', 'the', 'his', 'not', 'pointed', 'caked', 'Trident,', 'Jon.', 'burned,', 'brown', 'moving', 'them', 'and', 'our', 'and', 'fewer.', 'moon,', 'Lord', 'side', 'had', 'the', 'told', 'my', 'he’d', 'you', 'her', 'That', 'there', 'titles,', 'to', 'steel', 'the', 'glanced', 'young', 'bestir', 'seen', 'and', 'yet', 'abandon', 'and', 'as', 'voices', 'Illyrio', '“He', 'lifted', 'by', 'arm,', 'of', 'not', 'the', 'wore', 'voice', 'well,', 'good']\n"
     ]
    }
   ],
   "source": [
    "random_summary = []\n",
    "\n",
    "for word in range(1000):\n",
    "    random_number = random.randint(0, total_word_count - 1)\n",
    "    random_summary.append(words[random_number])\n",
    "    \n",
    "print(random_summary)"
   ]
  },
  {
   "cell_type": "markdown",
   "metadata": {},
   "source": [
    "### Well here's the first 1000 words generated by the lovely algorithm above... \n",
    "\n",
    "#### Feel free to generate more random 1000 word Game of Thrones related content (You may just generate some epic spoiler!)\n",
    "\n",
    "```\n",
    "['chew', 'lips.', 'had', 'reports', '“Robert', 'in', 'horses,', 'gently,', 'the', 'next', 'the', 'their', 'touch', 'light', 'says', 'covering', 'reached', 'ready,', 'Bran', 'of', 'will', 'summons.', 'is!”', '—', 'top', 'easy.', 'her', 'began', 'heavy', 'death,”', 'back', 'the', 'woods,', 'gold', 'ninety', 'as', 'the', 'Hall', 'to', 'Father,', 'with', 'to', 'guardsmen,', 'to', 'and', 'refreshing', 'them', 'then', '“My', 'rein', 'himself', 'where', 'golden', 'gates', 'a', 'a', 'on', 'towers', 'to', 'sentence,', 'kos', 'a', 'before', 'In', 'lord', 'fight', 'child', 'owned', 'pick', 'rider', 'her', 'the', 'That’s', 'Just', 'stained', 'blind', 'Far', 'she', 'rather', 'rightful', 'and', 'your', 'him', 'afraid?”', 'Arya', 'unclean.', 'floor', 'badly,', 'out', 'drinking', 'through', 'The', 'it', 'now,”', 'two', 'King,', 'distressed', 'the', 'streamed', 'dearly', 'bowmen', 'the', 'him.', 'father', 'only', 'belly', 'cells', 'be', 'to', 'packhorse', 'away', 'of', 'wounded', 'of', 'learned.', 'laugh.', '“The', 'honorable,', 'Khal', 'him', 'sworn', 'to', 'his', 'was', 'leave', 'chest', 'port.', 'the', 'bath,', 'you', 'retreated', '“They', 'his', 'Commander', 'eyes', 'take', 'Nan’s', 'armor', 'closed', 'swords', 'a', 'eased', 'to', 'his', 'so', 'knelt', 'ridden', 'they', '“Sit', 'a', 'word,', 'a', 'At', 'Yet', 'on', 'brazier,', 'the', 'born,', 'daughters,', 'The', 'and', 'Endrew?”', 'had', 'called,', '“You', 'roared.', 'the', 'how', 'a', 'a', 'lived', 'of', 'a', 'clutched', 'came', 'Iron', 'Winterfell,', 'Royce,', 'resplendent.', 'wore', 'the', 'there.', 'shone.', 'be', 'energetic.', 'while', 'king,', 'The', 'last', 'direwolf,', 'that', 'they', 'it.', 'of', 'Caron.', 'swear', 'and', 'voices', 'ascent', 'bedmaids.', '“Must', 'become', 'not', 'it', 'their', 'the', 'if', 'the', 'She', 'Neck,', 'Jon', 'his', 'you', 'on', 'on', 'seemed', 'No', 'had', 'in', 'sick', 'her', 'CATELYN', 'hard-packed', 'impaled', 'wanted', 'honor', 'lord,', 'below.', 'second', 'see', 'stead,', 'to', 'might', 'He', 'to', '…”', 'the', 'beyond,', 'after', 'than', 'more', 'from', 'in', 'river', 'bean.”', 'plain', 'hated', 'color', 'at', 'Winterfell,', 'never', 'traced', 'puts', 'brother?”', 'well', 'horse', 'Jon', 'and', 'my', 'saw', 'you', 'an', 'steward,', 'his', 'the', 'not', 'him', 'true', 'too!', 'tower', 'save', 'the', 'thick', 'he', 'looked', '“If', 'seemed', 'I', 'a', 'Alyn', 'to', 'she', 'the', 'well', 'the', 'hosts', 'brother’s', 'please', 'kissed', 'thinking', 'body.', 'he', 'moved', 'grave.', 'don’t', 'I', 'them,', 'his', 'as', 'she?', 'thought', 'Behind', 'and', 'and', 'off', 'him', 'and', 'himself', 'bite', 'and', 'took', 'excitedly', 'moon', 'with', 'baskets', 'fathered', 'looked', 'pair', 'with', 'sleeveless', 'of', 'three', '“So', 'and', 'am', 'wandering', 'they', '“We', 'And', 'Still,', 'black', 'kind.”', 'thinking,', 'Snow', 'been', 'from', 'mouth.', 'trestle', 'narrow', 'Patrek', 'he', 'uncle', 'bitter', 'down', 'to', 'that', 'die', 'the', 'brother,', 'permit', 'piled', 'name', 'the', 'him', 'Lann', 'living', 'flowing', 'her,', 'Father,”', 'go,”', 'at', 'to', 'third', 'he', 'likely', '“A', 'found', 'looked', 'but', 'so', 'seen', 'and', 'wisp', 'all', 'stalls.', 'a', 'to', 'of', 'she', 'regretting', 'He’s', 'He', 'morning', 'for', 'march', 'great', 'brush', 'did,', 'DORAN', 'so', 'needs', 'dreaming.', 'just', 'a', 'enough', 'It', 'but', 'the', 'above', 'mailed', 'that.', '“yes,', 'precipice', 'smoke', 'a', 'thought,', 'Arya’s', 'he', 'at', 'for', 'the', 'heavy', 'reply,', 'WAYNWOOD,', 'were', 'seas,', 'knight', 'of', 'men', 'host', '“Only', 'his', 'have', 'thought', 'same', 'a', 'helped', 'wooden', 'brought', 'welcome', 'them', 'her', 'clansmen', 'Lannister’s', 'was', 'the', 'might', 'and', 'what', 'The', 'his', 'bigger', 'to', 'to', 'high', 'from', 'her', 'Chella', '…', 'did.', 'left', 'are', 'man', 'midst', 'houses', 'to', 'and', 'like', 'We—”', 'I', 'a', 'the', 'argued.', 'was', '—', 'could', 'matter.', 'stubbornly.', 'Royce,', 'a', 'Jon', 'looked', 'Bronn', 'among', 'crumbling,', '…', 'this', 'nothing,', 'perform', 'threw', 'with', 'to', 'mean', 'Khal', 'one,', 'to', 'they', 'Keep.”', 'said', 'they', 'you', 'blind', 'but', 'sobbing', 'the', 'was', 'a', 'the', 'on', 'sons,', 'the', 'blessings', 'his', 'with', 'of', 'said', 'ahead,”', 'some', 'Varys', 'father', '…', 'the', 'massed', 'I’ve', 'and', 'she', '“Worse', 'Her', 'will', 'who’d', 'to', 'saw', 'he', 'know', 'west', 'no', 'gave', 'and', 'said,', 'dirty,', 'her', 'almost', 'stationed', '“I', 'and', 'The', 'the', 'and', 'that', 'in', 'to', 'kept', 'when', 'of', 'blunder.', 'old', 'still', 'arrowheads.', 'his', 'utterly', 'meet', 'enough,', 'Kingsguard,', 'supposed', 'put', 'speak', 'muttering,', 'spat.', 'but', 'was', 'Poole’s.', 'and', 'of', 'yard', 'sword.', 'Stark', 'the', 'so', 'rode', 'swam', 'show.', 'to', 'of', 'knights?”', 'lords,', 'have', 'kicked', 'all', 'if', 'he', 'and', 'up', 'and', 'more', 'but', 'Have', '“In', 'like.', 'day.', 'Lannister', 'with', 'by', 'outside', 'The', 'they', 'fortnight', 'thousand', 'leaned', 'day', '“He', 'he', 'stars', 'and', 'gone', 'horns', 'end', 'bedchamber,', 'farce?”', 'and', 'patterned', 'younger', 'promise', 'crime,”', 'sleepily', 'door,', 'pinions', 'tart', 'of', '“Who', 'murder', 'back', 'old', 'her', 'so', 'windpipe,', 'became', 'ferryman', 'gentle', 'dangling.', 'one', 'dully.', 'told', 'Ned', 'forward', 'a', 'name,', 'daughter.”', 'who', 'he', 'day', 'water,', 'wore', 'a', 'Illyrio', 'blamed', 'though', 'stood', 'Imp', 'gets', '“The', 'buildings', 'rolling', 'only', 'they', 'quiet', 'his', 'and', 'by', 'Jon', 'JON', 'set', 'was', 'his', 'would', 'a', 'holds', 'The', 'sat', 'Shadow.', 'from', 'ranger', 'I', 'have', 'breastplate.', 'face', 'is', 'face', 'maester', 'said,', 'neck.”', 'they', 'here', 'Alyssa’s', 'lord,', 'of', 'up', 'out', 'as', 'around', 'was', 'come', 'they', 'of', 'the', 'cloak', 'herald’s', 'were', 'but', 'should', 'fresh', 'lips.', 'true,”', 'and', 'on', 'afterward', 'with', 'and', 'It', 'wisp', 'in', 'smack', 'man', 'afraid', 'stay.', 'to', 'sole', 'blue', 'ponderously', 'are', 'mount', 'had', 'a', 'one', 'could', 'a', 'stabbed', 'His', 'what', 'no', 'lives,”', 'the', 'my', 'who’s', 'they', 'of', 'your', 'half-blind,', 'his', 'boy,', 'a', 'honor', 'man?”', 'children', 'Father.', 'would', 'I', 'long', 'gentle', 'their', 'Lord', 'his', 'bailey.', 'son,', 'one', '“Bright', 'has', 'the', 'peeked', 'arakh.', 'would', 'Lord', 'pinch', 'sweet', 'he', 'night,', 'sweet', 'children', 'spare', 'surprise', 'in', 'small', 'sending', 'She', 'the', 'in', 'the', 'of', 'Kingdoms', 'suit', 'and', 'the', 'He', 'the', '“The', 'in', 'what', 'woke', 'safety.', 'his', 'had', 'of', 'All', 'find', 'high,', 'well,', 'at', 'with', 'Myrcella', 'as', 'blinking,', 'watching.', 'flowing', 'dragon,', 'to', 'lord.”', 'full', 'even', 'finished', 'he', 'a', 'fill', 'Commander,', 'his', 'arrows', 'breastbone.', 'into', 'that', 'sword', 'common', 'our', 'was', 'in', 'Ser', 'be', 'seat', 'eyes', 'prayer,', 'were', 'are', 'Three', 'her', 'pod.', 'when', 'Septon', 'side', 'did', 'and', 'great', 'rising', 'Septa', 'spent', 'up.”', 'face.', 'have', 'low-hanging', 'him,', 'his', 'saying', 'of', 'straight', 'end', 'Glover', 'she', 'squire', 'fathered', 'fury.', 'and', 'a', 'heralded', 'Ned', 'was', 'The', 'surviving', 'been', 'armies.”', 'the', 'kingdoms', 'followed', 'gallop.', 'if', 'arms.', 'washed', 'the', 'said', 'imagined', 'Catelyn', 'daughter,', 'Lannisters.', 'son,', 'lips.', '“Nothing', 'seem', 'the', 'announced', 'the', 'scarf', 'The', 'her', 'to', 'Look', 'The', 'She', 'their', 'than', 'animals,”', 'thrones.', 'I’ve', 'island.', 'Bloody', 'of', 'you', 'him', 'went', 'the', 'he', 'Hand', 'of', 'The', 'The', 'the', 'off,”', 'understand', 'wood', 'and', 'had', 'orders,”', 'the', 'should', 'voice', 'kept', 'thought', 'it', 'lay', 'dogs', 'Stark', 'What', 'better', '“The', 'died.', 'trying', 'sharp', 'so', 'gaunt,', 'not', 'glitter', 'to', 'His', 'Could', 'into', 'continued', 'back', 'battle', 'kisses', 'and', 'and', 'and', 'had', 'stumbling', 'the', 'over', 'pulled', 'sick,', 'He', 'sit', 'frightened', 'Rodrik', 'he', 'leaves,', 'it', 'a', 'to', 'was', 'and', 'of', 'smiled.', 'They', 'were', '42–48', 'to', 'his', 'before', 'eyes', 'all', 'murmured,', 'made', 'silenced', 'here,', 'm’lord,”', 'was', 'bastard’s', 'look', 'big', 'in', 'assist', 'querulous', 'the', 'south', 'she', 'under', 'him', 'he', 'drawled', 'could', 'my', 'old', 'sort', 'to', 'my', 'who’d', 'ninety']\n",
    "```"
   ]
  },
  {
   "cell_type": "markdown",
   "metadata": {},
   "source": [
    "### An interesting series of words generated!!!\n",
    "``` 'the', 'still', 'of', 'her', 'well', 'than', 'love,”', 'a', 'and', 'Ser', 'Arya.' ```\n",
    "\n",
    "#### Ser Arya...?!?!?!?! Spoiler?!?!?!\n",
    "\n",
    "Okay but this is actually quite and very nonsensical. How about we try to take this one step further... And use conditional probability instead!\n",
    "\n",
    "Given a selected word, randomly select a word from the words that have appeared after the selected word!"
   ]
  },
  {
   "cell_type": "markdown",
   "metadata": {},
   "source": [
    "## Upgrading the story generator (to take into account the previous word which just appeared)\n",
    "\n",
    "##### Not as simple as it seems... We first must generate the frequency of a word appearing after every particular other word...\n",
    "\n",
    "Wait!!!! WE DON'T\n",
    "\n",
    "##### We just need to keep as a list of all the words which occured after the give word, and select randomly again from it as done previously. In other words, we only need to store a dictionary where the keys are the words, and the values are the list of words (can be non-unique) which occurs after each word."
   ]
  },
  {
   "cell_type": "code",
   "execution_count": 147,
   "metadata": {},
   "outputs": [],
   "source": [
    "word_frequency_dictionary = {}\n",
    "\n",
    "# start from 1 as we will just skip the first word\n",
    "for index in range(0, len(words) - 1):\n",
    "    \n",
    "    key_word = words[index]\n",
    "    next_word = words[index + 1]\n",
    "    \n",
    "    if key_word in word_frequency_dictionary:\n",
    "        word_occurence_list = word_frequency_dictionary[key_word]\n",
    "        word_occurence_list.append(next_word)\n",
    "    else:\n",
    "        word_frequency_dictionary[key_word] = [next_word]"
   ]
  },
  {
   "cell_type": "code",
   "execution_count": 150,
   "metadata": {},
   "outputs": [
    {
     "name": "stdout",
     "output_type": "stream",
     "text": [
      "['sat', 'Snow', 'muttered,', 'told', 'was', 'Snow', 'was', 'said,', 'silent', 'says', 'reappeared', 'still', 'said', 'replied.', 'said,', 'said.', 'said.', 'with', 'had', 'pointed', 'thoughtfully.', 'pulled', 'was', 'said.', 'said.', 'Snow', 'Arryn', 'did', 'named', 'then,', 'has', 'had', 'Arryn.', 'that', 'Snow', 'drinking', 'relished', 'had', 'could', 'saw', 'had', 'noticed', 'or', 'did', 'found', 'watched', 'a', 'had', 'saw', 'reached', 'could', 'rubbed', 'watched', 'grinned', 'looked', 'had', 'smiled.', 'said.', 'a', 'answered', 'had', 'had', 'told', 'a', 'swelled', 'said', 'protested.', 'said.', 'boasted.', 'said.', 'said', 'felt', 'trembled.', 'felt', 'would', 'had', 'wanted', 'turned.', 'said.', 'hesitated,', 'gasped,', 'said.', 'commanded.', 'said.', 'over', 'said.', 'felt', 'admitted', 'corrected.', 'was', 'said.', 'with', 'Arryn', 'Snow,', 'and', 'was', 'a', 'would', 'enjoy', 'seated', 'gave', 'observed.', 'grinned,', 'had', 'she', 'who', 'looked', 'messed', 'asked.', 'suggested.', 'observed.', 'chuckled.', 'shrugged.', 'looked', 'watched', 'said.', 'had', 'and', 'and', 'was', 'seemed', 'Arryn’s', 'climbed', 'had', 'said.', 'said,', 'sick.', 'no', 'took', 'said.', 'brushed', 'watched', 'did', 'lowered', 'had', 'said.', 'nodded,', 'agreed.', 'told', 'forced', 'to', 'hugged', 'told', 'left', 'was', 'told', 'had', 'drew', 'told', 'said.', 'found', 'said.', 'promised', 'messed', 'warned', 'teased.', 'Arryn', 'was', 'say', 'Arryn,', 'Snow’s', 'Snow', 'Snow', 'Snow.”', 'Snow', 'Snow', 'Snow', 'Snow,', 'Snow', 'came', 'picked', 'Snow.', 'Snow', 'Snow', 'Snow', 'Snow,', 'Snow.', 'sleeping', 'went', 'swept', 'knocked', 'took', 'hated', 'admitted.', 'knew', 'had', 'followed', 'despised', 'hung', 'found', 'wondered', 'was', 'had', 'argued.', 'rose', 'had', 'could', 'and', 'smile.', 'lifted', 'remembered,', 'stood', 'reached', 'told', 'would', 'twisted', 'was', 'pulled', 'sat', 'said', 'was', 'stared', 'looked.', 'thought', 'said.', 'repeated', 'would', 'snapped.', 'almost', 'hesitated.', 'said', 'said', 'left', 'on', 'felt', 'dizzy.', 'knew', 'looked', 'told', 'with', 'said.', 'was', 'shrugged.', 'could', 'said', 'remembered', 'did', 'heard', 'eyed', 'pulled', 'knew', 'was', 'breathed,', 'scarcely', 'was', 'ran', 'put', 'noticed', 'went', 'smiled', 'said.', 'heard', 'Arryn', 'had', 'Arryn’s', 'Arryn’s', 'Arryn', 'Snow', 'Snow', 'promised.', 'said.', 'like', 'sounded', 'Snow', 'Snow', 'Snow', 'Snow', 'to', 'on', 'was', 'had', 'on', 'asked', 'Snow.', 'we’re', 'was', 'continued', 'was', 'Arryn', 'Arryn', 'the', 'was', 'turned.', 'did', 'Snow', 'had', 'Snow', 'shook', 'urged,', 'Snow.', 'helped', 'drew', 'said', 'could', 'could', 'who', 'drove', 'knew', 'blocked', 'on', 'cut', 'had', 'stepped', 'had', 'replied.', 'Snow,', 'said.', 'called', 'left', 'cherished', 'found', 'finished', 'rolled', 'took', 'sat', 'said.', 'asked', 'heard', 'said.', 'from', 'could', 'smiled.', 'said,', 'frowned,', 'Snow', 'Snow', 'told', 'shook', 'asked.', 'let', 'Snow', 'thought,', 'said,', 'shrugged.', 'smiled.', 'was', 'returned,', 'snapped', 'said', 'knew', 'persuaded', 'could', 'said', 'heard', 'in', 'said.', 'knew', 'crossing', 'Arryn', 'had', 'was', 'Arryn', 'Arryn', 'Arryn’s', 'Arryn', 'Arryn', 'Arryn,', 'Arryn’s', 'Arryn,', 'Arryn', 'said', 'despaired', 'a', 'could', 'Arryn,', 'Arryn', 'Arryn,', 'Arryn', 'Arryn,', 'Arryn', 'Snow,', 'a', 'a', 'were', 'Arryn.”', 'Arryn’s', 'had', 'Arryn', 'died,”', 'Arryn’s', 'Arryn', 'was', 'was', 'Arryn’s', 'served', 'Arryn.', 'Arryn’s', 'knew.', 'Arryn’s', 'Snow’s', 'Arryn', 'gave', 'again?”', 'Arryn', 'Arryn,', 'faithfully', 'Arryn', 'who—”', 'in', 'with', 'Arryn’s', 'noticed', 'offered', 'corrected.', 'in', 'sputtered', 'arrived', 'Snow', 'had', 'said.', 'saddled', 'let', 'Snow', 'would', 'Snow', 'found', 'told', 'jammed', 'said.', 'had', 'had', 'Snow', 'Snow,', 'told', 'promised,', 'finished.', 'said.', 'said,', 'had', 'glanced', 'was', 'Snow.', 'Arryn', 'Arryn,', 'Arryn', 'Arryn', 'Arryn', 'Arryn?”', 'Arryn,', 'Arryn', 'Arryn.', 'was', 'said,', 'of', 'stood.', 'said.', 'glance', 'knew,', 'and', 'could', 'had', 'as', 'looked', 'asked', 'could', 'looked', 'turned', 'blazed', 'was', 'Snow', 'had', 'let', 'could', 'climbed', 'put', 'said.', 'had', 'drew', 'knelt,', 'held', 'realized,', 'knelt.', 'heard', 'Snow', 'and', 'thought', 'led', 'told', 'had', 'told', 'put', 'held', 'could', 'remembered', 'could', 'Snow', 'was', 'blurted.', 'and', 'and', 'saw', 'said', 'squatted', 'could', 'followed', 'even', 'had', 'felt', 'was', 'saw', 'had', 'heard', 'thought,', 'before', 'was', 'thought.', 'saw', 'was', 'wondered', 'replied.', 'did', 'nodded.', 'poured', 'remained', 'could', 'sat,', 'said', 'insisted.', 'knew', 'himself', 'reminded', 'a', 'wanted', 'did', 'did', 'realized.', 'could', 'could', 'had', 'Snow', 'could', 'slumped', 'thought.', 'was', 'wondered.', 'watched', 'pushed', 'told', 'knelt', 'crept', 'came', 'stopped', 'felt', 'had', 'slashed', 'knew', 'pried', 'held', 'hacked', 'raked', 'could', 'tried', 'saw', 'had', 'plunged', 'and', 'filled', 'Arryn', 'lied', 'flexed', 'thanked', 'had', 'as', 'remembered;', 'thought', 'that', 'told', 'replied.', 'hesitated.', 'took', 'was', 'turned', 'could', 'had', 'had', 'had', 'did', 'nodded.', 'tried', 'did', 'lowered', 'thought', 'slid', 'made', 'said.', 'raked', 'unsheathed', 'had', 'paid', 'knelt,', 'smiled.', 'had', 'stood.', 'frowned', 'said', 'pointed', 'the', 'the', 'shifted', 'grabbed', 'had', 'wished', 'shrugged.', 'hesitated.', 'could', 'felt', 'let', 'said', 'was', 'could', 'and', 'had', 'and', 'had', 'Stark.', 'Snow', 'paid', 'told', 'put', 'had', 'raised', 'said', 'had', 'like', 'could', 'did', 'was', 'felt', 'felt', 'slowed', 'knew', 'away,', 'could', 'was', 'Snow,', 'would', 'had', 'put', 'was', 'knew', 'slow', 'squatted', 'took', 'wondered', 'continued', 'wanted', 'would', 'sat', 'leapt', 'found', 'crouched,', 'glimpsed', 'told', 'wheeled', 'demanded.', 'told', 'said', 'cursed', 'warned', 'kicked', 'lifted', 'glared', 'Snow', 'glimpsed', 'told', 'said,', 'walked', 'carried', 'entered.', 'opened', 'crushed', 'brought', 'said', 'said.', 'felt', 'stood', 'kept', 'had', 'wanted', 'said.', 'chewed', 'had', 'Snow', 'Arryn,', 'Fossoway,']\n"
     ]
    }
   ],
   "source": [
    "words_after_jon = word_frequency_dictionary['Jon']\n",
    "print(words_after_jon)"
   ]
  },
  {
   "cell_type": "code",
   "execution_count": 152,
   "metadata": {},
   "outputs": [
    {
     "name": "stdout",
     "output_type": "stream",
     "text": [
      "['I', 'wager', 'she', 'has', 'played', 'around', 'her', 'brother', 'myself.', 'Let', 'the', 'circle', 'as', 'custom', 'and', 'limp', 'with', 'a', 'lord?', 'Is', 'your', 'sister', 'you', 'two', 'men', 'thirty', 'years', 'had', 'stood', 'abandoned', 'him', 'to', 'sail', 'on', 'the', 'rest', 'of', 'leaving', 'only', 'for', 'half', 'a', 'castle', 'godswood,', 'and', 'from', 'the', 'rest', 'of', 'that', 'too.', '“Make', 'way', 'the', 'man', 'of', 'gold,', 'a', 'while', 'Jaime', 'slid', 'toward', 'her,', 'his', 'axe.', 'A', 'gust', 'of', 'air', 'from', 'Robert,', 'that’s', 'enough.', 'The', 'rapers', 'put', 'a', 'stricken', 'look', 'as', 'dogs.', '“Chett,', 'bring', 'the', 'Tumblestone', 'in', 'an', 'iron', 'ring', 'with', 'relief,', 'but', 'it', 'as', 'they', 'anointed', 'knight,', 'and', 'it', 'then.', 'He', 'says', 'he', 'sat', 'on', 'her', 'back,', 'his', 'eyes,', 'Stark.”', 'Curiosity', 'was', 'clad', 'in', 'the', 'walls.', 'I', 'want', 'to', 'pardon', 'that', 'man’s', 'cock,', 'which', 'was', 'frozen', 'with', 'spears,', 'the', 'Tullys', 'who', 'led', 'the', 'world', 'had', 'written', 'on', 'the', 'wonders', 'yet', 'the', 'landing', 'and', 'Robb', 'went', 'to', 'the', 'High', 'Septon', 'himself.”', '“What', 'would', 'you', 'hope', 'you', 'speak', 'to', 'Jon.', 'All', 'this', 'damnable', 'room.', '“In', 'the', 'arms', 'of', 'her', 'tent', 'to', 'think', 'a', 'tower', 'and', 'never', 'forgive', 'me,', 'and', 'the', 'crones', 'of', 'Winterfell:', 'a', 'tranquil', 'land', 'of', 'the', 'hall.', '“Where', 'is', 'my', 'lady,', 'best', 'serves', 'my', 'legs.', 'He', 'pointed.', '“Khal', 'Drogo', 'swayed', 'along,', 'milady.', 'You', 'knew', 'she', 'told', 'them.', 'She', 'had', 'remembered', 'so', 'long', 'extinguished.', 'The', 'night', 'erupted', 'all', 'the', 'Night’s', 'Watch;', 'being', 'done?”', '“Mother?”', 'a', 'bang,', 'and', 'handed', 'the', 'way,', 'as', 'if', 'Bran’s', 'shoulder,', 'and', 'Summer', 'had', 'built', 'a', 'sinister', 'repute.', '“Tell', 'them', 'to', 'his', 'tall', 'and', 'he’s', 'strapped', 'Robb’s', 'got', 'her', 'critically.', '“You', 'would', 'have', 'sufficient', 'to', 'behold.', '“Sister', 'or', 'I', 'leave', 'him,', 'raven', 'flapped', 'its', 'scabbard.', 'Finally', 'they', 'will', 'dice', 'it', 'again,', 'and', 'live', 'them,', 'but', 'Sandor', 'Clegane', 'was', 'the', 'ground.', 'By', 'the', 'paper.', '“What', 'good', 'one,', 'for', 'this', 'dagger', 'from', 'home,', 'I', 'should', 'Tyrion', 'asked', 'as', 'dead', 'men', 'like', 'the', 'hilt.', 'So', 'be', 'most', 'disciplined', 'of', 'the', 'goat', 'was', 'all', 'the', 'red', 'stain', 'over', 'to', 'place', 'where', 'threats', 'were', 'gnarled', 'old', 'I', 'envy', 'you', 'are,', 'before', 'the', 'room.', '“I', 'shall', '…', 'yes,', 'thank', 'you,', 'boy.”', 'Dimly,', 'as', 'dead,', 'girl?', 'No', 'one', 'of', 'day,', 'it', 'was', 'a', 'dark', 'as', 'large', 'sword', 'point', 'with', 'blood.', 'Her', 'dream', 'of', 'farewell,', 'Joffrey', 'is', 'no', 'patience', 'rubbed', 'raw', 'with', 'links', 'were', 'the', 'world,', 'raising', 'the', 'solar.', 'Septa', 'Mordane', 'would', 'declare', 'for', 'an', 'unkempt', 'beard', 'as', 'a', 'leather', 'where', 'such', 'a', 'new', 'scar', 'when', 'the', 'Tower', 'of', 'folly,', 'but', 'Tyrion', 'his', 'shoulder', 'of', 'the', 'children', 'of', 'Winterfell', 'is', 'strong', 'about', 'Maegor', 'I', 'am', 'sorry', 'if', 'Joffrey', 'would', 'have', 'more', 'than', 'a', 'dream.', 'The', 'king', 'I', 'told', 'herself.', 'The', 'lot', '…', 'very', 'wrong.', '“My', 'brother', 'has', 'happened.', 'Her', 'broken', 'lance,', 'ready.', 'When', 'he', 'would', 'be', 'free', 'city', 'walls', 'of', 'six', 'combined.”', '“I', 'only', 'just', 'below', 'was', 'peering', 'through', 'a', 'dagger,', 'Jeren', 'is', 'a', 'comment,', 'but', 'she', 'sidestepped,', 'swept', 'down', 'the', 'long', 'hiss.', '“Come', 'back', 'his', 'mother.', '“As', 'you', 'think', 'about', 'whatever', 'you', 'will', 'welcome', 'the', 'rangers’', 'search', 'of', 'the', 'fire', 'ran', 'like', 'a', 'petulant', 'shrug.', '“He', 'has', 'ridden', 'with', 'an', 'extra', 'seat', 'on', 'their', 'newest', 'brother.', 'Orys', 'took', 'the', 'Tully', 'turn', 'just', 'before', 'we', 'must', 'speak', 'the', 'fence,', 'and', 'Lady,', 'don’t', 'they?”', '“They', 'took', 'flight,', 'while', 'the', 'lesson,', 'Lord', 'of', 'the', 'steps,', 'giggling', 'at', 'Maester', 'Luwin', 'gently.', '“Curious,”', 'said', 'very', 'long.', 'Lysa', 'Arryn', 'remembers', 'its', 'towers', 'of', 'cold', 'and', 'once', 'a', 'token', 'of', 'questions?”', 'The', 'cold', 'outside.', 'This', 'time', 'had', 'found', 'the', 'masons', 'and', 'princes', 'I', 'want', 'to', 'rage,', 'to', 'go', 'home', 'with', 'us,', 'but', 'horseflesh.”', '“Horse', 'makes', 'his', 'empty', 'cup', 'to', 'chant.', 'Underneath', 'their', 'nights', '…', 'Bethany,', 'yes.', 'Choosing', '…', 'there’s', 'no', 'wine.', 'She', 'mounted', 'on', 'him', 'the', 'lord', 'in', 'truth.”', '“Viserys?”', 'She', 'was', 'too', 'glad', 'for', 'an', 'iron-tipped', 'spears.', '“Halfman!', 'Halfman!', 'Halfman!”', 'Tyrion', 'lurched', 'to', 'the', 'square', 'was', 'in', 'the', 'wailing', 'offends', 'your', 'displeasure', 'at', 'him,', 'and', 'now', 'or', 'that', 'you', 'tonight,”', 'he', 'was', 'a', 'thousand', 'other', 'direction.', 'It', 'was', 'set', 'half', 'a', 'bull', 'aurochs', 'whole,', 'or', 'why', 'couldn’t', 'make', 'out', 'of', 'Royce.', 'Tall,', 'it', 'so', 'blond', 'curls', 'shining', 'like', 'Jaime', 'hadn’t', 'come', 'evenfall,', 'Ser', 'Rodrik', 'whispered', 'and', 'I', 'could', 'see', 'how', 'hot', 'soak,', 'a', 'mouth', 'full', 'of', 'summer', 'snows', 'fall', 'to', 'be', 'raised', 'his', 'House', 'Tarly', '…', 'I', 'almost', 'made', 'me', 'out.', 'DAENERYS', 'ARYA', 'BRAN', 'CATELYN', 'Ned', 'admitted.', '“He', 'likes', 'with', 'a', 'ram', 'and', 'got', 'only', 'know', 'that', 'as', 'she', 'murmured.', '“Maester', 'Luwin,', 'who’d', 'offered', 'him', 'he', 'will', 'hurt', 'my', 'lord.”', '“What', 'Lord', 'Eddard', 'has', 'all', 'the', 'gods.', 'So', 'long', 'days', 'later,', 'and', 'he', 'kept', 'him', 'here?”', 'he', 'rode', 'out', 'with', 'a', 'child,', 'not', 'training', 'with', 'a', 'black', 'hair', 'fell', 'like', 'he’s', 'a', 'circle.', 'Jon', 'wanted', 'to', 'him,', 'and', 'fiddled', 'with', 'the', 'First', 'Men,', 'and', 'Gared', 'told', 'her', 'skin.', '“No', 'matter,”', 'the', 'causeway', 'through', 'the', 'maegi’s', 'flat', 'and', 'I', 'counted', 'on', 'this', 'city', 'where', 'Jaime', 'decide', 'to', 'my', 'sister.', 'Lord', 'Arryn’s', 'death,”', 'Ned', 'filled', 'her', 'feet.', '“When', 'we', 'are', 'inside', 'her.', '“No', 'longer,', 'ser.”', '“I', 'am', 'no', 'doubt', 'as', 'well:', 'the', 'crossroads.', '“By', 'his', 'bed', 'and', 'the', 'Iron', 'spikes', 'in', 'time', 'he', 'must', 'learn', 'to', 'lose', 'more', 'silver', 'hand', 'on', 'the', 'fainter', 'as', 'she', 'could', 'not', 'illness,', 'my', 'sweet', 'wetness', 'inside', 'her.', 'Inside,', 'the', 'woods', 'to', 'take', 'the', 'dragon', 'skulls', 'stared', 'resentfully', 'at', 'him,', 'and', 'the', 'Gates', 'of', 'the', 'Hand', 'without', 'waking', 'and', 'threaten,', 'and', 'mail,', 'saw', 'the', 'mud', 'up', 'above.', 'Bran', 'had', 'ever', 'returned.', 'He', 'did', 'not', 'concerned', 'the', 'sea', 'was', 'even', 'a', 'man’s', 'caution', 'of', 'dead', 'men', 'go', 'out.', 'She', 'played', 'across', 'her', 'his', 'face', 'as', 'like.”', '“It', 'is', 'it', 'down.', '“Finish', 'him', 'into', 'the', 'riverlands', 'beyond,', 'through', 'the', 'hottest', 'pool', 'of', 'heart;', 'the', 'village', 'was', 'just', 'make', 'out', 'his', 'fingers', 'with', 'her', 'hair', 'sticking', 'out', 'the', 'black', 'sky.', 'She', 'was', 'no', 'matter', 'is', 'a', 'place', 'their', 'dice.', 'It', 'was', 'with', 'both', 'anyway,', 'once', 'run.', 'Ser', 'Barristan', 'was', 'as', 'she', 'hasn’t,', 'wash', 'off', 'two', 'are', 'steps', 'were', 'done', 'to', 'think', 'I', 'truly', 'a', 'moment', 'they', 'butchered', 'before', 'they', 'were', 'gone.', 'All', 'his', 'bed.', 'The', 'breath', 'steaming', 'in', 'the', 'paper', 'was', 'as', 'the', 'victor', 'of', 'Renly’s', 'offer.', 'He', 'tied', 'up', 'on', 'either', 'side', 'of', 'the', 'ceiling', 'with', 'him.', 'He', 'forced', 'herself']\n"
     ]
    }
   ],
   "source": [
    "smarter_random_summary = []\n",
    "\n",
    "seed_word = words[random.randint(0, total_word_count - 1)]\n",
    "smarter_random_summary.append(seed_word)\n",
    "\n",
    "prev_word = seed_word\n",
    "\n",
    "for word_number in range(1,1000):\n",
    "    next_list = word_frequency_dictionary[prev_word]\n",
    "    \n",
    "    next_word = next_list[random.randint(0, len(next_list) - 1)]\n",
    "    smarter_random_summary.append(next_word)\n",
    "    \n",
    "    prev_word = next_word\n",
    "    \n",
    "print(smarter_random_summary)"
   ]
  },
  {
   "cell_type": "markdown",
   "metadata": {},
   "source": [
    "##### Well here's the first 1000 words generated by the NEW lovely algorithm above...\n",
    "```\n",
    "['I', 'wager', 'she', 'has', 'played', 'around', 'her', 'brother', 'myself.', 'Let', 'the', 'circle', 'as', 'custom', 'and', 'limp', 'with', 'a', 'lord?', 'Is', 'your', 'sister', 'you', 'two', 'men', 'thirty', 'years', 'had', 'stood', 'abandoned', 'him', 'to', 'sail', 'on', 'the', 'rest', 'of', 'leaving', 'only', 'for', 'half', 'a', 'castle', 'godswood,', 'and', 'from', 'the', 'rest', 'of', 'that', 'too.', '“Make', 'way', 'the', 'man', 'of', 'gold,', 'a', 'while', 'Jaime', 'slid', 'toward', 'her,', 'his', 'axe.', 'A', 'gust', 'of', 'air', 'from', 'Robert,', 'that’s', 'enough.', 'The', 'rapers', 'put', 'a', 'stricken', 'look', 'as', 'dogs.', '“Chett,', 'bring', 'the', 'Tumblestone', 'in', 'an', 'iron', 'ring', 'with', 'relief,', 'but', 'it', 'as', 'they', 'anointed', 'knight,', 'and', 'it', 'then.', 'He', 'says', 'he', 'sat', 'on', 'her', 'back,', 'his', 'eyes,', 'Stark.”', 'Curiosity', 'was', 'clad', 'in', 'the', 'walls.', 'I', 'want', 'to', 'pardon', 'that', 'man’s', 'cock,', 'which', 'was', 'frozen', 'with', 'spears,', 'the', 'Tullys', 'who', 'led', 'the', 'world', 'had', 'written', 'on', 'the', 'wonders', 'yet', 'the', 'landing', 'and', 'Robb', 'went', 'to', 'the', 'High', 'Septon', 'himself.”', '“What', 'would', 'you', 'hope', 'you', 'speak', 'to', 'Jon.', 'All', 'this', 'damnable', 'room.', '“In', 'the', 'arms', 'of', 'her', 'tent', 'to', 'think', 'a', 'tower', 'and', 'never', 'forgive', 'me,', 'and', 'the', 'crones', 'of', 'Winterfell:', 'a', 'tranquil', 'land', 'of', 'the', 'hall.', '“Where', 'is', 'my', 'lady,', 'best', 'serves', 'my', 'legs.', 'He', 'pointed.', '“Khal', 'Drogo', 'swayed', 'along,', 'milady.', 'You', 'knew', 'she', 'told', 'them.', 'She', 'had', 'remembered', 'so', 'long', 'extinguished.', 'The', 'night', 'erupted', 'all', 'the', 'Night’s', 'Watch;', 'being', 'done?”', '“Mother?”', 'a', 'bang,', 'and', 'handed', 'the', 'way,', 'as', 'if', 'Bran’s', 'shoulder,', 'and', 'Summer', 'had', 'built', 'a', 'sinister', 'repute.', '“Tell', 'them', 'to', 'his', 'tall', 'and', 'he’s', 'strapped', 'Robb’s', 'got', 'her', 'critically.', '“You', 'would', 'have', 'sufficient', 'to', 'behold.', '“Sister', 'or', 'I', 'leave', 'him,', 'raven', 'flapped', 'its', 'scabbard.', 'Finally', 'they', 'will', 'dice', 'it', 'again,', 'and', 'live', 'them,', 'but', 'Sandor', 'Clegane', 'was', 'the', 'ground.', 'By', 'the', 'paper.', '“What', 'good', 'one,', 'for', 'this', 'dagger', 'from', 'home,', 'I', 'should', 'Tyrion', 'asked', 'as', 'dead', 'men', 'like', 'the', 'hilt.', 'So', 'be', 'most', 'disciplined', 'of', 'the', 'goat', 'was', 'all', 'the', 'red', 'stain', 'over', 'to', 'place', 'where', 'threats', 'were', 'gnarled', 'old', 'I', 'envy', 'you', 'are,', 'before', 'the', 'room.', '“I', 'shall', '…', 'yes,', 'thank', 'you,', 'boy.”', 'Dimly,', 'as', 'dead,', 'girl?', 'No', 'one', 'of', 'day,', 'it', 'was', 'a', 'dark', 'as', 'large', 'sword', 'point', 'with', 'blood.', 'Her', 'dream', 'of', 'farewell,', 'Joffrey', 'is', 'no', 'patience', 'rubbed', 'raw', 'with', 'links', 'were', 'the', 'world,', 'raising', 'the', 'solar.', 'Septa', 'Mordane', 'would', 'declare', 'for', 'an', 'unkempt', 'beard', 'as', 'a', 'leather', 'where', 'such', 'a', 'new', 'scar', 'when', 'the', 'Tower', 'of', 'folly,', 'but', 'Tyrion', 'his', 'shoulder', 'of', 'the', 'children', 'of', 'Winterfell', 'is', 'strong', 'about', 'Maegor', 'I', 'am', 'sorry', 'if', 'Joffrey', 'would', 'have', 'more', 'than', 'a', 'dream.', 'The', 'king', 'I', 'told', 'herself.', 'The', 'lot', '…', 'very', 'wrong.', '“My', 'brother', 'has', 'happened.', 'Her', 'broken', 'lance,', 'ready.', 'When', 'he', 'would', 'be', 'free', 'city', 'walls', 'of', 'six', 'combined.”', '“I', 'only', 'just', 'below', 'was', 'peering', 'through', 'a', 'dagger,', 'Jeren', 'is', 'a', 'comment,', 'but', 'she', 'sidestepped,', 'swept', 'down', 'the', 'long', 'hiss.', '“Come', 'back', 'his', 'mother.', '“As', 'you', 'think', 'about', 'whatever', 'you', 'will', 'welcome', 'the', 'rangers’', 'search', 'of', 'the', 'fire', 'ran', 'like', 'a', 'petulant', 'shrug.', '“He', 'has', 'ridden', 'with', 'an', 'extra', 'seat', 'on', 'their', 'newest', 'brother.', 'Orys', 'took', 'the', 'Tully', 'turn', 'just', 'before', 'we', 'must', 'speak', 'the', 'fence,', 'and', 'Lady,', 'don’t', 'they?”', '“They', 'took', 'flight,', 'while', 'the', 'lesson,', 'Lord', 'of', 'the', 'steps,', 'giggling', 'at', 'Maester', 'Luwin', 'gently.', '“Curious,”', 'said', 'very', 'long.', 'Lysa', 'Arryn', 'remembers', 'its', 'towers', 'of', 'cold', 'and', 'once', 'a', 'token', 'of', 'questions?”', 'The', 'cold', 'outside.', 'This', 'time', 'had', 'found', 'the', 'masons', 'and', 'princes', 'I', 'want', 'to', 'rage,', 'to', 'go', 'home', 'with', 'us,', 'but', 'horseflesh.”', '“Horse', 'makes', 'his', 'empty', 'cup', 'to', 'chant.', 'Underneath', 'their', 'nights', '…', 'Bethany,', 'yes.', 'Choosing', '…', 'there’s', 'no', 'wine.', 'She', 'mounted', 'on', 'him', 'the', 'lord', 'in', 'truth.”', '“Viserys?”', 'She', 'was', 'too', 'glad', 'for', 'an', 'iron-tipped', 'spears.', '“Halfman!', 'Halfman!', 'Halfman!”', 'Tyrion', 'lurched', 'to', 'the', 'square', 'was', 'in', 'the', 'wailing', 'offends', 'your', 'displeasure', 'at', 'him,', 'and', 'now', 'or', 'that', 'you', 'tonight,”', 'he', 'was', 'a', 'thousand', 'other', 'direction.', 'It', 'was', 'set', 'half', 'a', 'bull', 'aurochs', 'whole,', 'or', 'why', 'couldn’t', 'make', 'out', 'of', 'Royce.', 'Tall,', 'it', 'so', 'blond', 'curls', 'shining', 'like', 'Jaime', 'hadn’t', 'come', 'evenfall,', 'Ser', 'Rodrik', 'whispered', 'and', 'I', 'could', 'see', 'how', 'hot', 'soak,', 'a', 'mouth', 'full', 'of', 'summer', 'snows', 'fall', 'to', 'be', 'raised', 'his', 'House', 'Tarly', '…', 'I', 'almost', 'made', 'me', 'out.', 'DAENERYS', 'ARYA', 'BRAN', 'CATELYN', 'Ned', 'admitted.', '“He', 'likes', 'with', 'a', 'ram', 'and', 'got', 'only', 'know', 'that', 'as', 'she', 'murmured.', '“Maester', 'Luwin,', 'who’d', 'offered', 'him', 'he', 'will', 'hurt', 'my', 'lord.”', '“What', 'Lord', 'Eddard', 'has', 'all', 'the', 'gods.', 'So', 'long', 'days', 'later,', 'and', 'he', 'kept', 'him', 'here?”', 'he', 'rode', 'out', 'with', 'a', 'child,', 'not', 'training', 'with', 'a', 'black', 'hair', 'fell', 'like', 'he’s', 'a', 'circle.', 'Jon', 'wanted', 'to', 'him,', 'and', 'fiddled', 'with', 'the', 'First', 'Men,', 'and', 'Gared', 'told', 'her', 'skin.', '“No', 'matter,”', 'the', 'causeway', 'through', 'the', 'maegi’s', 'flat', 'and', 'I', 'counted', 'on', 'this', 'city', 'where', 'Jaime', 'decide', 'to', 'my', 'sister.', 'Lord', 'Arryn’s', 'death,”', 'Ned', 'filled', 'her', 'feet.', '“When', 'we', 'are', 'inside', 'her.', '“No', 'longer,', 'ser.”', '“I', 'am', 'no', 'doubt', 'as', 'well:', 'the', 'crossroads.', '“By', 'his', 'bed', 'and', 'the', 'Iron', 'spikes', 'in', 'time', 'he', 'must', 'learn', 'to', 'lose', 'more', 'silver', 'hand', 'on', 'the', 'fainter', 'as', 'she', 'could', 'not', 'illness,', 'my', 'sweet', 'wetness', 'inside', 'her.', 'Inside,', 'the', 'woods', 'to', 'take', 'the', 'dragon', 'skulls', 'stared', 'resentfully', 'at', 'him,', 'and', 'the', 'Gates', 'of', 'the', 'Hand', 'without', 'waking', 'and', 'threaten,', 'and', 'mail,', 'saw', 'the', 'mud', 'up', 'above.', 'Bran', 'had', 'ever', 'returned.', 'He', 'did', 'not', 'concerned', 'the', 'sea', 'was', 'even', 'a', 'man’s', 'caution', 'of', 'dead', 'men', 'go', 'out.', 'She', 'played', 'across', 'her', 'his', 'face', 'as', 'like.”', '“It', 'is', 'it', 'down.', '“Finish', 'him', 'into', 'the', 'riverlands', 'beyond,', 'through', 'the', 'hottest', 'pool', 'of', 'heart;', 'the', 'village', 'was', 'just', 'make', 'out', 'his', 'fingers', 'with', 'her', 'hair', 'sticking', 'out', 'the', 'black', 'sky.', 'She', 'was', 'no', 'matter', 'is', 'a', 'place', 'their', 'dice.', 'It', 'was', 'with', 'both', 'anyway,', 'once', 'run.', 'Ser', 'Barristan', 'was', 'as', 'she', 'hasn’t,', 'wash', 'off', 'two', 'are', 'steps', 'were', 'done', 'to', 'think', 'I', 'truly', 'a', 'moment', 'they', 'butchered', 'before', 'they', 'were', 'gone.', 'All', 'his', 'bed.', 'The', 'breath', 'steaming', 'in', 'the', 'paper', 'was', 'as', 'the', 'victor', 'of', 'Renly’s', 'offer.', 'He', 'tied', 'up', 'on', 'either', 'side', 'of', 'the', 'ceiling', 'with', 'him.', 'He', 'forced', 'herself']\n",
    "```\n",
    "\n",
    "Interesting bits that appear....\n",
    "\n",
    "WOAH SPOILER!!!!\n",
    "\n",
    "```... 'I', 'wager', 'she', 'has', 'played', 'around', 'her', 'brother', 'myself.' ... ```\n",
    "\n",
    "Well this is interesting... \n",
    "\n",
    "```... 'He', 'tied', 'up', 'on', 'either', 'side', 'of', 'the', 'ceiling', 'with', 'him.' ... ```\n",
    "\n",
    "```... 'Winterfell:', 'a', 'tranquil', 'land', 'of', 'the', 'hall.'... ```\n",
    "\n",
    "And I like the fact that we see 'Ser Barristan' appear :)\n",
    "\n",
    "Feel free to generate more random 1000 word Game of Thrones related content (You may just generate some epic spoiler!)"
   ]
  },
  {
   "cell_type": "markdown",
   "metadata": {},
   "source": [
    "## Story Generator (3.0)\n",
    "Now, let's try to do this 2 levels deep! Note that this is going to be a bit tricky as in this case, we will have to generate a data structure to store the original words to preserve the frequency of 1 word occuring after 2 consecutive words. In other words, there's no easy way (or at least, not that I can think of now) to just 'hack' this like the previous 2 cases where we did not explicitly use the frequency distributions of the word.\n",
    "\n",
    "Or can a dictionary of dictionary of lists work...??? If we use it only to generate the 3rd word, then yes!"
   ]
  },
  {
   "cell_type": "code",
   "execution_count": 154,
   "metadata": {},
   "outputs": [],
   "source": [
    "double_level_word_dict = {}\n",
    "\n",
    "for index in range(0, len(words) - 2):\n",
    "    \n",
    "    key_word_1 = words[index]\n",
    "    key_word_2 = words[index + 1]\n",
    "    next_word = words[index + 2]\n",
    "    \n",
    "    if key_word_1 in double_level_word_dict:\n",
    "        inner_dictionary = double_level_word_dict[key_word_1]\n",
    "        \n",
    "        if key_word_2 in inner_dictionary:\n",
    "            word_list = inner_dictionary[key_word_2]\n",
    "            word_list.append(next_word)\n",
    "        else:\n",
    "            inner_dictionary[key_word_2] = [next_word]\n",
    "    else:\n",
    "        double_level_word_dict[key_word_1] = {}\n",
    "        double_level_word_dict[key_word_1][key_word_2] = [next_word]"
   ]
  },
  {
   "cell_type": "code",
   "execution_count": 155,
   "metadata": {},
   "outputs": [
    {
     "data": {
      "text/plain": [
       "['moved',\n",
       " 'said',\n",
       " 'gave',\n",
       " 'was',\n",
       " 'watching',\n",
       " 'was',\n",
       " 'was',\n",
       " 'said,',\n",
       " 'said,',\n",
       " 'stroked',\n",
       " 'set',\n",
       " 'offered',\n",
       " 'smiled.',\n",
       " 'is',\n",
       " 'moved',\n",
       " 'said.',\n",
       " 'turned',\n",
       " 'said',\n",
       " 'promised,',\n",
       " 'winced.',\n",
       " 'took',\n",
       " 'could',\n",
       " 'laughed',\n",
       " 'listened',\n",
       " 'told',\n",
       " 'with',\n",
       " 'turned',\n",
       " 'said.',\n",
       " 'was',\n",
       " 'had',\n",
       " 'was',\n",
       " 'did',\n",
       " 'tightened',\n",
       " 'remembered',\n",
       " 'straightened']"
      ]
     },
     "execution_count": 155,
     "metadata": {},
     "output_type": "execute_result"
    }
   ],
   "source": [
    "double_level_word_dict['Jon']['Snow']"
   ]
  },
  {
   "cell_type": "code",
   "execution_count": 162,
   "metadata": {},
   "outputs": [
    {
     "name": "stdout",
     "output_type": "stream",
     "text": [
      "['guffaw', 'loudly.', 'The', 'sound', 'of', 'her', 'marriage,', 'to', 'learn', 'when', 'he', 'raised', 'his', 'own', 'blood.', 'His', 'dragon', 'skulls', 'that', 'had', 'to', 'be', 'sure.', 'Now,', 'what', 'do', 'you', 'mean', 'us', 'to', 'Gulltown.', 'We', 'can', 'take', 'the', 'blade', 'was', 'exquisitely', 'balanced.', 'The', 'edges', 'glimmered', 'faintly', 'as', 'they', 'passed', 'underneath,', 'the', 'barbed', 'spikes', 'mere', 'inches', 'above', 'their', 'heads.', 'Catelyn', 'gazed', 'up', 'at', 'him,', 'seeing', 'him', 'for', 'the', 'Dothraki', 'sea,', 'child.”', 'Dany', 'saw', 'then.', 'It', 'was', 'a', 'pretty', 'stupid', 'name', 'for', 'a', 'moment', 'Robert', 'was', 'Ned’s', 'king', 'now,', 'and', 'a', 'ferret’s', 'head,', 'he', 'saw', 'him,', 'ran', 'to', 'her', 'children.', 'And', 'the', 'next', 'morning,', 'but', 'Lord', 'Jon', 'was', 'murdered,', 'not', 'openly,', 'but', 'suspicion', 'casts', 'a', 'long', 'time', 'dying.', 'I', 'wish', '…', 'I', 'think', 'not.', 'She', 'knew', 'all', 'the', 'food', 'back', 'to', 'his', 'feet.', '“They', 'have', 'killed', 'the', 'old', 'fool', 'does', 'not', 'mean', 'my', 'love', 'for', 'his', 'reins,', 'he', 'charged.', 'The', 'sudden', 'bull', 'rush', 'caught', 'Bronn', 'off', 'balance.', 'Ser', 'Vardis', 'turned', 'in', 'the', 'ashes', 'of', 'my', 'wrath,', 'Lord', 'Stark?”', 'she', 'asked', 'Yoren.', '“Or', 'Uncle', 'Benjen?”', '“Well,', 'as', 'to', 'waste', 'his', 'arrows', 'on', 'sheep', 'when', 'there', 'is', 'a', 'king’s', 'councillor', 'smiled.', '“Well,', 'those', 'are', 'not', 'the', 'Lord', 'Commander', 'of', 'the', 'Iron', 'Throne,', 'Varys', 'was', 'worse.', 'For', 'all', 'his', 'power,', 'before', 'the', 'Mother', 'of', 'Mountains', 'far', 'to', 'the', 'rider,', 'teach', 'it', 'to', 'the', 'Vale.', 'If', 'Mychel', 'Redfort', 'laid', 'with', 'this', 'folly.', 'He', 'has', 'an', 'urgent', 'engagement', 'elsewhere', 'and', 'galloped', 'up', 'over', 'the', 'centuries.', 'Then', 'she', 'smiled', 'graciously', 'and', 'said', 'in', 'astonishment.', '“My', 'lady,', 'a', 'question,', 'as', 'it', 'please', 'you,”', 'she', 'heard', 'herself', 'say.', '“A', 'lemon,', 'or', '…', 'or', 'was', 'it?', 'He', 'would', 'always', 'take', 'the', 'Twins', 'down', 'around', 'her.', '“Well', 'spoken,', 'child,”', 'said', 'the', 'three-eyed', 'crow.', 'It', 'took', 'longer', 'than', 'she', 'was.', 'Let', 'him', 'grow', 'as', 'tall', 'as', 'any', 'knight.', '“Let’s', 'ride,', 'then.”', 'Robb', 'put', 'gallant', 'Prince', 'Joffrey', 'laughed.', '“He’s', 'my', 'mother’s', 'dog,', 'in', 'truth.', 'She', 'owed', 'this', 'night', 'to', 'reflect', 'on', 'his', 'legs.', 'His', 'head', 'hit', 'the', 'mark.', 'The', 'dangers', 'of', 'the', 'age', 'of', 'heroes,', 'when', 'the', 'king', 'nine', 'years', 'before', 'during', 'Balon', 'Greyjoy’s', 'rebellion.', 'Her', 'daughters', 'had', 'long', 'ago', 'that', 'it', 'did', 'seem', 'to', 'have', 'known', 'a', 'woman,', 'a', 'serving', 'wench,”', 'she', 'said', 'sadly.', '“When', 'the', 'sun', 'and', 'clouds', 'of', 'fragrant', 'smoke', 'rose', 'from', 'the', 'Dornish', 'princess', 'Myriah.]', '209–221', 'Aerys', 'I', 'second', 'son', 'to', 'ponder', 'her', 'words.', '“Then', 'surely', 'you', 'can', 'help', 'the', 'Lannisters', 'closed.', 'Arya', 'retreated,', 'her', 'own', 'in', 'the', 'jousting,', 'along', 'with', 'blank,', 'dead', 'faces,', 'pulling', 'sobbing', 'children', 'by', 'the', 'shoulder,', 'nothing', 'more.', 'You', 'need', 'her,', 'as', 'if', 'that', 'was', 'the', 'back', 'of', 'the', 'bloodriders.', '“The', 'Great', 'Shepherd', 'sent', 'me', 'up', 'under', 'his', 'arm.', 'The', 'battle', 'seemed', 'to', 'Bran', 'too.”', '“You’re', 'asking', 'a', 'great', 'while.', 'Robert', 'was', 'so', 'huge', 'that', 'he', 'was', 'there', 'and', 'rode', 'to', 'the', 'ford', 'and', 'ringed', 'on', 'all', 'his', 'life.', 'Still,', 'the', 'heat', 'was', 'fierce', 'while', 'it', 'lay', 'there', 'like', 'a', 'cocked', 'elbow,', 'Lord', 'Karstark’s', 'valiant', 'sons,', 'and', 'one', 'from', 'the', 'council', 'table.', '“So', 'you', 'were', 'on.', 'The', 'Knight', 'of', 'the', 'long', 'way', 'ahead,', 'then', 'went', 'back', 'to', 'the', 'crypts', 'below', 'Winterfell.', 'I', 'will', 'have', 'cause', 'to', 'fear.', 'Will', 'shared', 'his', 'bed', 'robe,', 'but', 'around', 'his', 'army', 'for', 'all', 'the', 'more', 'Jon', 'despised', 'them.', 'Inside,', 'Jon', 'hung', 'sword', 'and', 'half', 'foot,', 'five', 'thousand', 'men', 'had', 'died.', 'At', 'the', 'council', 'chambers,', 'seated', 'at', 'a', 'gallop.', 'They', 'wore', 'checked', 'cloaks,', 'blue-and-burgundy.', 'Behind', 'them,', 'two', 'young', 'squires', 'in', 'the', 'hall', 'as', 'Arya', 'parried.', '“Left,”', 'he', 'shouted,', 'his', 'voice', 'so', 'it', 'carried', 'down', 'the', 'council', 'table.', '“Have', 'the', 'years', 'came', 'back', 'to', 'Winterfell,', 'or', 'run', 'to', 'him', 'the', 'damnable', 'cloak,”', 'Ser', 'Vardis', 'drove', 'forward', 'off', 'his', 'own', 'life.', 'Broken,', 'Bran', 'thought', 'about', 'it.', '“The', 'jewels', 'and', 'silver', 'bracelets', 'on', 'her', 'left', 'hand,', 'yet', 'the', 'sound', 'of', 'swordplay,', 'and', 'the', 'king', 'nine', 'years', 'before', 'Joffrey', 'comes', 'of', 'age,', 'Ned', 'reflected,', 'but', 'he', 'would', 'never', 'have', 'told', 'me,”', 'she', 'told', 'herself.', '“You', 'rode', 'him', 'as', 'he', 'stared', 'at', 'their', 'feet', 'and', 'hollows', 'under', 'her', 'leathers;', 'she', 'didn’t', 'think', 'it', 'best', 'to', 'ignore', 'than', 'a', 'child.”', '“Rhaenys', 'was', 'a', 'fierce', 'humor,', 'my', 'lord.”', 'The', 'soft', 'leather', 'gave', 'beneath', 'Jon’s', 'fingers,', 'as', 'he', 'pays', 'the', 'price.”', 'Illyrio', 'waved', 'a', 'tankard', 'of', 'ale.', '“Tyrion', 'Half', 'man!', 'Come,', 'sit', 'by', 'our', 'fire,', 'share', 'meat', 'and', 'mead', 'with', 'him,', 'he', 'heard', 'a', 'shout', 'from', 'Theon', 'Greyjoy,', 'and', 'Hallis', 'Mollen.', 'Afterward,', 'riders', 'were', 'still', 'warm', 'from', 'the', 'flesh,', 'peeled', 'off', 'the', 'body,', 'a', 'boy', 'you’ll', 'remain', 'until', 'Ser', 'Alliser.', '“The', 'Bastard', 'wishes', 'to', 'defend', 'the', 'Vale', 'when', 'Robert', 'heard', 'of', 'his', 'uncle?”', '“No,”', 'Ser', 'Alliser', 'Thorne,”', 'the', 'maester', 'was', 'frowning', 'now.', '“What', 'are', 'you', 'doing', 'in', 'camp?”', 'and', 'the', 'peasants', 'tremble,”', 'the', 'master-at-arms', 'screamed', 'for', 'their', 'own', 'son', 'in', 'his', 'arms,', 'and', 'his', 'lady', 'wife', 'once,', 'yet', 'I', 'do', 'hereby', 'command', 'Eddard', 'of', 'the', 'King’s', 'Tower.', 'He', 'found', 'that', 'curious.', 'Jon', 'Arryn', '…”', 'He', 'looked', 'as', 'though', 'the', 'boy', 'king', 'that’s', 'died', 'now?”', 'she', 'shouted', 'down,', 'leaning', 'out', 'over', 'the', 'narrow', 'stone', 'steps', 'that', 'corkscrewed', 'around', 'the', 'joint.', 'His', 'axe', 'was', 'gone,', 'melted', 'away', 'like', 'the', 'sun,', 'and', 'every', 'heart', 'tree', 'and', 'pray', 'to', 'the', 'tower', 'steps', 'briskly.', 'He', 'wants', 'to', 'be', 'Hand', 'until', 'the', 'Twins,', 'day', 'and', 'the', 'matter', 'can', 'be', 'at', 'the', 'end', 'of', 'the', 'bowels', 'of', 'the', 'queen.', 'Cersei', 'stood.', '“Ser', 'Barristan', 'Selmy,', 'resplendent', 'in', 'a', 'wide', 'mouth', 'full', 'of', 'cravens', 'who', 'pretended', 'to', 'notice', 'him.', '“The', 'king', 'is', 'too', 'deaf', 'to', 'hear', 'her.', '“The', 'khal', 'needs', 'no', 'help', 'from', 'women', 'who', 'lie', 'with', 'a', 'plum', 'stuffed', 'in', 'that', 'black', 'dog', 'Clegane,', 'and', 'now', 'Ben', 'Stark', 'vanished.', '“Do', 'you', 'think', 'sends', 'the', 'wind,', 'and', 'her', 'chance', 'meeting', 'with', 'them', 'as', 'they', 'entered.', 'Jon', 'saddled', 'his', 'mare,', 'spinning', 'her', 'in', 'a', 'scowl.', '“Jaime', 'Lannister', 'murdered', 'Jory', 'and', 'Heward', 'and', 'a', 'shock', 'of', 'impact', 'made', 'him', 'uncomfortable.', 'He', 'looked', 'as', 'small', 'as', 'yours.”', '“We', 'learned', 'that', 'Lord', 'Slynt', 'be', 'seated', 'upon', 'his', 'small', 'council,', 'to', 'assist', 'me.”', 'The', 'old', 'men', 'and', 'children', 'talk.”', '“He', 'speaks', 'most', 'eloquently', 'with', 'his', 'woodharp.”', 'He', 'resumed', 'his', 'seat.', 'Catelyn', 'made', 'for', 'smiles,', 'but', 'he', 'feared', 'he', 'might', 'plunge', 'into', 'the', 'darkness', 'of', 'the', 'curving', 'walls']\n"
     ]
    }
   ],
   "source": [
    "even_smarter_random_summary = []\n",
    "\n",
    "seed_word = words[random.randint(0, total_word_count - 1)]\n",
    "seed_word_2_dict = double_level_word_dict[seed_word]\n",
    "seed_word_2_list = list(seed_word_2_dict.keys())\n",
    "seed_word_2 = seed_word_2_list[random.randint(0, len(seed_word_2_list) - 1)]\n",
    "\n",
    "prev_word1 = seed_word\n",
    "prev_word2 = seed_word_2\n",
    "\n",
    "even_smarter_random_summary.append(prev_word1)\n",
    "even_smarter_random_summary.append(prev_word2)\n",
    "\n",
    "for word_number in range(2,1000):\n",
    "    next_list = double_level_word_dict[prev_word1][prev_word2]\n",
    "    \n",
    "    next_word = next_list[random.randint(0, len(next_list) - 1)]\n",
    "    even_smarter_random_summary.append(next_word)\n",
    "    \n",
    "    \n",
    "    prev_word1 = prev_word2\n",
    "    prev_word2 = next_word\n",
    "    \n",
    "print(even_smarter_random_summary)"
   ]
  },
  {
   "cell_type": "code",
   "execution_count": null,
   "metadata": {},
   "outputs": [],
   "source": []
  }
 ],
 "metadata": {
  "kernelspec": {
   "display_name": "Python 3",
   "language": "python",
   "name": "python3"
  },
  "language_info": {
   "codemirror_mode": {
    "name": "ipython",
    "version": 3
   },
   "file_extension": ".py",
   "mimetype": "text/x-python",
   "name": "python",
   "nbconvert_exporter": "python",
   "pygments_lexer": "ipython3",
   "version": "3.6.5"
  }
 },
 "nbformat": 4,
 "nbformat_minor": 2
}
